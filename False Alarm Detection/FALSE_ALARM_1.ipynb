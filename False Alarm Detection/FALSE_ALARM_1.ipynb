{
 "cells": [
  {
   "cell_type": "code",
   "execution_count": 3,
   "metadata": {},
   "outputs": [],
   "source": [
    "import pandas as pd\n",
    "import numpy as np \n",
    "from sklearn.preprocessing import StandardScaler\n",
    "from sklearn.model_selection import train_test_split\n",
    "from sklearn.metrics import confusion_matrix\n",
    "from sklearn import metrics"
   ]
  },
  {
   "cell_type": "code",
   "execution_count": 4,
   "metadata": {},
   "outputs": [
    {
     "data": {
      "text/html": [
       "<div>\n",
       "<style scoped>\n",
       "    .dataframe tbody tr th:only-of-type {\n",
       "        vertical-align: middle;\n",
       "    }\n",
       "\n",
       "    .dataframe tbody tr th {\n",
       "        vertical-align: top;\n",
       "    }\n",
       "\n",
       "    .dataframe thead th {\n",
       "        text-align: right;\n",
       "    }\n",
       "</style>\n",
       "<table border=\"1\" class=\"dataframe\">\n",
       "  <thead>\n",
       "    <tr style=\"text-align: right;\">\n",
       "      <th></th>\n",
       "      <th>Case No.</th>\n",
       "      <th>Ambient Temperature( deg C)</th>\n",
       "      <th>Calibration(days)</th>\n",
       "      <th>Unwanted substance deposition(0/1)</th>\n",
       "      <th>Humidity(%)</th>\n",
       "      <th>H2S Content(ppm)</th>\n",
       "      <th>detected by(% of sensors)</th>\n",
       "      <th>Spuriosity Index(0/1)</th>\n",
       "    </tr>\n",
       "  </thead>\n",
       "  <tbody>\n",
       "    <tr>\n",
       "      <th>0</th>\n",
       "      <td>Case # 1</td>\n",
       "      <td>-2</td>\n",
       "      <td>226</td>\n",
       "      <td>1</td>\n",
       "      <td>96</td>\n",
       "      <td>9</td>\n",
       "      <td>21</td>\n",
       "      <td>1</td>\n",
       "    </tr>\n",
       "    <tr>\n",
       "      <th>1</th>\n",
       "      <td>Case # 2</td>\n",
       "      <td>4</td>\n",
       "      <td>134</td>\n",
       "      <td>1</td>\n",
       "      <td>83</td>\n",
       "      <td>4</td>\n",
       "      <td>77</td>\n",
       "      <td>0</td>\n",
       "    </tr>\n",
       "    <tr>\n",
       "      <th>2</th>\n",
       "      <td>Case # 3</td>\n",
       "      <td>7</td>\n",
       "      <td>163</td>\n",
       "      <td>0</td>\n",
       "      <td>69</td>\n",
       "      <td>2</td>\n",
       "      <td>81</td>\n",
       "      <td>0</td>\n",
       "    </tr>\n",
       "    <tr>\n",
       "      <th>3</th>\n",
       "      <td>Case # 4</td>\n",
       "      <td>5</td>\n",
       "      <td>162</td>\n",
       "      <td>0</td>\n",
       "      <td>80</td>\n",
       "      <td>6</td>\n",
       "      <td>69</td>\n",
       "      <td>0</td>\n",
       "    </tr>\n",
       "    <tr>\n",
       "      <th>4</th>\n",
       "      <td>Case # 5</td>\n",
       "      <td>2</td>\n",
       "      <td>192</td>\n",
       "      <td>1</td>\n",
       "      <td>87</td>\n",
       "      <td>3</td>\n",
       "      <td>67</td>\n",
       "      <td>0</td>\n",
       "    </tr>\n",
       "  </tbody>\n",
       "</table>\n",
       "</div>"
      ],
      "text/plain": [
       "   Case No.  Ambient Temperature( deg C)  Calibration(days)  \\\n",
       "0  Case # 1                           -2                226   \n",
       "1  Case # 2                            4                134   \n",
       "2  Case # 3                            7                163   \n",
       "3  Case # 4                            5                162   \n",
       "4  Case # 5                            2                192   \n",
       "\n",
       "   Unwanted substance deposition(0/1)  Humidity(%)  H2S Content(ppm)  \\\n",
       "0                                   1           96                 9   \n",
       "1                                   1           83                 4   \n",
       "2                                   0           69                 2   \n",
       "3                                   0           80                 6   \n",
       "4                                   1           87                 3   \n",
       "\n",
       "   detected by(% of sensors)  Spuriosity Index(0/1)  \n",
       "0                         21                      1  \n",
       "1                         77                      0  \n",
       "2                         81                      0  \n",
       "3                         69                      0  \n",
       "4                         67                      0  "
      ]
     },
     "execution_count": 4,
     "metadata": {},
     "output_type": "execute_result"
    }
   ],
   "source": [
    "\n",
    "data = pd.read_excel(\"False Alarm Cases.xlsx\")\n",
    "\n",
    "data.head()\n",
    "\n",
    "#this is to drop NaN columns \n",
    "df = data.dropna(axis = 1)\n",
    "\n",
    "df.head()"
   ]
  },
  {
   "cell_type": "code",
   "execution_count": 5,
   "metadata": {},
   "outputs": [
    {
     "data": {
      "text/plain": [
       "96"
      ]
     },
     "execution_count": 5,
     "metadata": {},
     "output_type": "execute_result"
    }
   ],
   "source": [
    "df[\"Humidity(%)\"].min()\n",
    "df[\"Humidity(%)\"].max()\n"
   ]
  },
  {
   "cell_type": "code",
   "execution_count": 6,
   "metadata": {},
   "outputs": [
    {
     "name": "stdout",
     "output_type": "stream",
     "text": [
      "Min Humidity -  69\n",
      "Max Humidity -  96\n"
     ]
    }
   ],
   "source": [
    "print(\"Min Humidity - \",df[\"Humidity(%)\"].min())\n",
    "print(\"Max Humidity - \",df[\"Humidity(%)\"].max())"
   ]
  },
  {
   "cell_type": "code",
   "execution_count": 7,
   "metadata": {},
   "outputs": [],
   "source": [
    "#In this i am assigning the true alarms in a variable\n",
    "true_alarm = df[(df[\"Spuriosity Index(0/1)\"]== 0)]"
   ]
  },
  {
   "cell_type": "code",
   "execution_count": 8,
   "metadata": {},
   "outputs": [
    {
     "data": {
      "text/html": [
       "<div>\n",
       "<style scoped>\n",
       "    .dataframe tbody tr th:only-of-type {\n",
       "        vertical-align: middle;\n",
       "    }\n",
       "\n",
       "    .dataframe tbody tr th {\n",
       "        vertical-align: top;\n",
       "    }\n",
       "\n",
       "    .dataframe thead th {\n",
       "        text-align: right;\n",
       "    }\n",
       "</style>\n",
       "<table border=\"1\" class=\"dataframe\">\n",
       "  <thead>\n",
       "    <tr style=\"text-align: right;\">\n",
       "      <th></th>\n",
       "      <th>Case No.</th>\n",
       "      <th>Ambient Temperature( deg C)</th>\n",
       "      <th>Calibration(days)</th>\n",
       "      <th>Unwanted substance deposition(0/1)</th>\n",
       "      <th>Humidity(%)</th>\n",
       "      <th>H2S Content(ppm)</th>\n",
       "      <th>detected by(% of sensors)</th>\n",
       "      <th>Spuriosity Index(0/1)</th>\n",
       "    </tr>\n",
       "  </thead>\n",
       "  <tbody>\n",
       "    <tr>\n",
       "      <th>1</th>\n",
       "      <td>Case # 2</td>\n",
       "      <td>4</td>\n",
       "      <td>134</td>\n",
       "      <td>1</td>\n",
       "      <td>83</td>\n",
       "      <td>4</td>\n",
       "      <td>77</td>\n",
       "      <td>0</td>\n",
       "    </tr>\n",
       "    <tr>\n",
       "      <th>2</th>\n",
       "      <td>Case # 3</td>\n",
       "      <td>7</td>\n",
       "      <td>163</td>\n",
       "      <td>0</td>\n",
       "      <td>69</td>\n",
       "      <td>2</td>\n",
       "      <td>81</td>\n",
       "      <td>0</td>\n",
       "    </tr>\n",
       "    <tr>\n",
       "      <th>3</th>\n",
       "      <td>Case # 4</td>\n",
       "      <td>5</td>\n",
       "      <td>162</td>\n",
       "      <td>0</td>\n",
       "      <td>80</td>\n",
       "      <td>6</td>\n",
       "      <td>69</td>\n",
       "      <td>0</td>\n",
       "    </tr>\n",
       "    <tr>\n",
       "      <th>4</th>\n",
       "      <td>Case # 5</td>\n",
       "      <td>2</td>\n",
       "      <td>192</td>\n",
       "      <td>1</td>\n",
       "      <td>87</td>\n",
       "      <td>3</td>\n",
       "      <td>67</td>\n",
       "      <td>0</td>\n",
       "    </tr>\n",
       "    <tr>\n",
       "      <th>6</th>\n",
       "      <td>Case # 7</td>\n",
       "      <td>5</td>\n",
       "      <td>220</td>\n",
       "      <td>0</td>\n",
       "      <td>78</td>\n",
       "      <td>6</td>\n",
       "      <td>87</td>\n",
       "      <td>0</td>\n",
       "    </tr>\n",
       "  </tbody>\n",
       "</table>\n",
       "</div>"
      ],
      "text/plain": [
       "   Case No.  Ambient Temperature( deg C)  Calibration(days)  \\\n",
       "1  Case # 2                            4                134   \n",
       "2  Case # 3                            7                163   \n",
       "3  Case # 4                            5                162   \n",
       "4  Case # 5                            2                192   \n",
       "6  Case # 7                            5                220   \n",
       "\n",
       "   Unwanted substance deposition(0/1)  Humidity(%)  H2S Content(ppm)  \\\n",
       "1                                   1           83                 4   \n",
       "2                                   0           69                 2   \n",
       "3                                   0           80                 6   \n",
       "4                                   1           87                 3   \n",
       "6                                   0           78                 6   \n",
       "\n",
       "   detected by(% of sensors)  Spuriosity Index(0/1)  \n",
       "1                         77                      0  \n",
       "2                         81                      0  \n",
       "3                         69                      0  \n",
       "4                         67                      0  \n",
       "6                         87                      0  "
      ]
     },
     "execution_count": 8,
     "metadata": {},
     "output_type": "execute_result"
    }
   ],
   "source": [
    "true_alarm.head()"
   ]
  },
  {
   "cell_type": "code",
   "execution_count": 9,
   "metadata": {},
   "outputs": [
    {
     "name": "stdout",
     "output_type": "stream",
     "text": [
      "Min Humidity when Alarm was True -  69\n",
      "Max Humidity when Alarm was True -  96\n"
     ]
    }
   ],
   "source": [
    "print(\"Min Humidity when Alarm was True - \",true_alarm[\"Humidity(%)\"].min())\n",
    "print(\"Max Humidity when Alarm was True - \",true_alarm[\"Humidity(%)\"].max())"
   ]
  },
  {
   "cell_type": "code",
   "execution_count": 10,
   "metadata": {},
   "outputs": [],
   "source": [
    "#In this i am assigning the true alarms in a variable\n",
    "false_alarm = df[(df[\"Spuriosity Index(0/1)\"]== 1)]"
   ]
  },
  {
   "cell_type": "code",
   "execution_count": 11,
   "metadata": {},
   "outputs": [
    {
     "data": {
      "text/html": [
       "<div>\n",
       "<style scoped>\n",
       "    .dataframe tbody tr th:only-of-type {\n",
       "        vertical-align: middle;\n",
       "    }\n",
       "\n",
       "    .dataframe tbody tr th {\n",
       "        vertical-align: top;\n",
       "    }\n",
       "\n",
       "    .dataframe thead th {\n",
       "        text-align: right;\n",
       "    }\n",
       "</style>\n",
       "<table border=\"1\" class=\"dataframe\">\n",
       "  <thead>\n",
       "    <tr style=\"text-align: right;\">\n",
       "      <th></th>\n",
       "      <th>Case No.</th>\n",
       "      <th>Ambient Temperature( deg C)</th>\n",
       "      <th>Calibration(days)</th>\n",
       "      <th>Unwanted substance deposition(0/1)</th>\n",
       "      <th>Humidity(%)</th>\n",
       "      <th>H2S Content(ppm)</th>\n",
       "      <th>detected by(% of sensors)</th>\n",
       "      <th>Spuriosity Index(0/1)</th>\n",
       "    </tr>\n",
       "  </thead>\n",
       "  <tbody>\n",
       "    <tr>\n",
       "      <th>0</th>\n",
       "      <td>Case # 1</td>\n",
       "      <td>-2</td>\n",
       "      <td>226</td>\n",
       "      <td>1</td>\n",
       "      <td>96</td>\n",
       "      <td>9</td>\n",
       "      <td>21</td>\n",
       "      <td>1</td>\n",
       "    </tr>\n",
       "    <tr>\n",
       "      <th>5</th>\n",
       "      <td>Case # 6</td>\n",
       "      <td>-1</td>\n",
       "      <td>221</td>\n",
       "      <td>1</td>\n",
       "      <td>93</td>\n",
       "      <td>7</td>\n",
       "      <td>38</td>\n",
       "      <td>1</td>\n",
       "    </tr>\n",
       "    <tr>\n",
       "      <th>9</th>\n",
       "      <td>Case # 10</td>\n",
       "      <td>-1</td>\n",
       "      <td>217</td>\n",
       "      <td>1</td>\n",
       "      <td>96</td>\n",
       "      <td>9</td>\n",
       "      <td>25</td>\n",
       "      <td>1</td>\n",
       "    </tr>\n",
       "    <tr>\n",
       "      <th>13</th>\n",
       "      <td>Case # 14</td>\n",
       "      <td>2</td>\n",
       "      <td>213</td>\n",
       "      <td>1</td>\n",
       "      <td>87</td>\n",
       "      <td>7</td>\n",
       "      <td>31</td>\n",
       "      <td>1</td>\n",
       "    </tr>\n",
       "    <tr>\n",
       "      <th>14</th>\n",
       "      <td>Case # 15</td>\n",
       "      <td>8</td>\n",
       "      <td>104</td>\n",
       "      <td>1</td>\n",
       "      <td>93</td>\n",
       "      <td>7</td>\n",
       "      <td>44</td>\n",
       "      <td>1</td>\n",
       "    </tr>\n",
       "  </tbody>\n",
       "</table>\n",
       "</div>"
      ],
      "text/plain": [
       "     Case No.  Ambient Temperature( deg C)  Calibration(days)  \\\n",
       "0    Case # 1                           -2                226   \n",
       "5    Case # 6                           -1                221   \n",
       "9   Case # 10                           -1                217   \n",
       "13  Case # 14                            2                213   \n",
       "14  Case # 15                            8                104   \n",
       "\n",
       "    Unwanted substance deposition(0/1)  Humidity(%)  H2S Content(ppm)  \\\n",
       "0                                    1           96                 9   \n",
       "5                                    1           93                 7   \n",
       "9                                    1           96                 9   \n",
       "13                                   1           87                 7   \n",
       "14                                   1           93                 7   \n",
       "\n",
       "    detected by(% of sensors)  Spuriosity Index(0/1)  \n",
       "0                          21                      1  \n",
       "5                          38                      1  \n",
       "9                          25                      1  \n",
       "13                         31                      1  \n",
       "14                         44                      1  "
      ]
     },
     "execution_count": 11,
     "metadata": {},
     "output_type": "execute_result"
    }
   ],
   "source": [
    "false_alarm.head()"
   ]
  },
  {
   "cell_type": "code",
   "execution_count": 12,
   "metadata": {},
   "outputs": [
    {
     "name": "stdout",
     "output_type": "stream",
     "text": [
      "Min Calibration Days when alarm was false -  10\n",
      "Max Calibration Days when alarm was false -  250\n"
     ]
    }
   ],
   "source": [
    "print(\"Min Calibration Days when alarm was false - \",false_alarm[\"Calibration(days)\"].min())\n",
    "print(\"Max Calibration Days when alarm was false - \",false_alarm[\"Calibration(days)\"].max())"
   ]
  },
  {
   "cell_type": "code",
   "execution_count": 13,
   "metadata": {},
   "outputs": [
    {
     "name": "stdout",
     "output_type": "stream",
     "text": [
      "Min Calibration Days when alarm was True -  10\n",
      "Max Calibration Days when alarm was True -  250\n"
     ]
    }
   ],
   "source": [
    "print(\"Min Calibration Days when alarm was True - \",true_alarm[\"Calibration(days)\"].min())\n",
    "print(\"Max Calibration Days when alarm was True - \",true_alarm[\"Calibration(days)\"].max())"
   ]
  },
  {
   "cell_type": "code",
   "execution_count": 14,
   "metadata": {},
   "outputs": [],
   "source": [
    "#here i will split data as dependent and independent\n",
    "depnd_var = df.iloc[:,1:7].values\n",
    "indepnd_var = df.iloc[:,7].values\n",
    "indepnd_var = indepnd_var.reshape(-1, 1)"
   ]
  },
  {
   "cell_type": "code",
   "execution_count": 15,
   "metadata": {},
   "outputs": [
    {
     "data": {
      "text/plain": [
       "array([[ -2, 226,   1,  96,   9,  21],\n",
       "       [  4, 134,   1,  83,   4,  77],\n",
       "       [  7, 163,   0,  69,   2,  81],\n",
       "       ...,\n",
       "       [  1,  32,   0,  95,   4, 100],\n",
       "       [  6,  31,   0,  93,   6,  39],\n",
       "       [ -1, 106,   1,  74,   9,  28]])"
      ]
     },
     "execution_count": 15,
     "metadata": {},
     "output_type": "execute_result"
    }
   ],
   "source": [
    "depnd_var"
   ]
  },
  {
   "cell_type": "code",
   "execution_count": 16,
   "metadata": {},
   "outputs": [
    {
     "data": {
      "text/plain": [
       "array([[1],\n",
       "       [0],\n",
       "       [0],\n",
       "       ...,\n",
       "       [0],\n",
       "       [1],\n",
       "       [1]])"
      ]
     },
     "execution_count": 16,
     "metadata": {},
     "output_type": "execute_result"
    }
   ],
   "source": [
    "indepnd_var"
   ]
  },
  {
   "cell_type": "code",
   "execution_count": 17,
   "metadata": {},
   "outputs": [],
   "source": [
    "#here we split data into train and test in 75 25 ratio\n",
    "train_x ,test_x, train_y, test_y = train_test_split(depnd_var,indepnd_var, test_size = 0.20,random_state = 0)"
   ]
  },
  {
   "cell_type": "code",
   "execution_count": 18,
   "metadata": {},
   "outputs": [
    {
     "data": {
      "text/html": [
       "<div>\n",
       "<style scoped>\n",
       "    .dataframe tbody tr th:only-of-type {\n",
       "        vertical-align: middle;\n",
       "    }\n",
       "\n",
       "    .dataframe tbody tr th {\n",
       "        vertical-align: top;\n",
       "    }\n",
       "\n",
       "    .dataframe thead th {\n",
       "        text-align: right;\n",
       "    }\n",
       "</style>\n",
       "<table border=\"1\" class=\"dataframe\">\n",
       "  <thead>\n",
       "    <tr style=\"text-align: right;\">\n",
       "      <th></th>\n",
       "      <th>Case No.</th>\n",
       "      <th>Ambient Temperature( deg C)</th>\n",
       "      <th>Calibration(days)</th>\n",
       "      <th>Unwanted substance deposition(0/1)</th>\n",
       "      <th>Humidity(%)</th>\n",
       "      <th>H2S Content(ppm)</th>\n",
       "      <th>detected by(% of sensors)</th>\n",
       "      <th>Spuriosity Index(0/1)</th>\n",
       "    </tr>\n",
       "  </thead>\n",
       "  <tbody>\n",
       "    <tr>\n",
       "      <th>0</th>\n",
       "      <td>False</td>\n",
       "      <td>False</td>\n",
       "      <td>False</td>\n",
       "      <td>False</td>\n",
       "      <td>False</td>\n",
       "      <td>False</td>\n",
       "      <td>False</td>\n",
       "      <td>False</td>\n",
       "    </tr>\n",
       "    <tr>\n",
       "      <th>1</th>\n",
       "      <td>False</td>\n",
       "      <td>False</td>\n",
       "      <td>False</td>\n",
       "      <td>False</td>\n",
       "      <td>False</td>\n",
       "      <td>False</td>\n",
       "      <td>False</td>\n",
       "      <td>False</td>\n",
       "    </tr>\n",
       "    <tr>\n",
       "      <th>2</th>\n",
       "      <td>False</td>\n",
       "      <td>False</td>\n",
       "      <td>False</td>\n",
       "      <td>False</td>\n",
       "      <td>False</td>\n",
       "      <td>False</td>\n",
       "      <td>False</td>\n",
       "      <td>False</td>\n",
       "    </tr>\n",
       "    <tr>\n",
       "      <th>3</th>\n",
       "      <td>False</td>\n",
       "      <td>False</td>\n",
       "      <td>False</td>\n",
       "      <td>False</td>\n",
       "      <td>False</td>\n",
       "      <td>False</td>\n",
       "      <td>False</td>\n",
       "      <td>False</td>\n",
       "    </tr>\n",
       "    <tr>\n",
       "      <th>4</th>\n",
       "      <td>False</td>\n",
       "      <td>False</td>\n",
       "      <td>False</td>\n",
       "      <td>False</td>\n",
       "      <td>False</td>\n",
       "      <td>False</td>\n",
       "      <td>False</td>\n",
       "      <td>False</td>\n",
       "    </tr>\n",
       "  </tbody>\n",
       "</table>\n",
       "</div>"
      ],
      "text/plain": [
       "   Case No.  Ambient Temperature( deg C)  Calibration(days)  \\\n",
       "0     False                        False              False   \n",
       "1     False                        False              False   \n",
       "2     False                        False              False   \n",
       "3     False                        False              False   \n",
       "4     False                        False              False   \n",
       "\n",
       "   Unwanted substance deposition(0/1)  Humidity(%)  H2S Content(ppm)  \\\n",
       "0                               False        False             False   \n",
       "1                               False        False             False   \n",
       "2                               False        False             False   \n",
       "3                               False        False             False   \n",
       "4                               False        False             False   \n",
       "\n",
       "   detected by(% of sensors)  Spuriosity Index(0/1)  \n",
       "0                      False                  False  \n",
       "1                      False                  False  \n",
       "2                      False                  False  \n",
       "3                      False                  False  \n",
       "4                      False                  False  "
      ]
     },
     "execution_count": 18,
     "metadata": {},
     "output_type": "execute_result"
    }
   ],
   "source": [
    "# so we know that our data doesnot have and missing value now we can procced to scalling \n",
    "df.isnull().head()"
   ]
  },
  {
   "cell_type": "code",
   "execution_count": 19,
   "metadata": {},
   "outputs": [
    {
     "name": "stderr",
     "output_type": "stream",
     "text": [
      "/Applications/anaconda3/lib/python3.7/site-packages/sklearn/utils/validation.py:595: DataConversionWarning: Data with input dtype int64 was converted to float64 by StandardScaler.\n",
      "  warnings.warn(msg, DataConversionWarning)\n",
      "/Applications/anaconda3/lib/python3.7/site-packages/sklearn/utils/validation.py:595: DataConversionWarning: Data with input dtype int64 was converted to float64 by StandardScaler.\n",
      "  warnings.warn(msg, DataConversionWarning)\n",
      "/Applications/anaconda3/lib/python3.7/site-packages/sklearn/utils/validation.py:595: DataConversionWarning: Data with input dtype int64 was converted to float64 by StandardScaler.\n",
      "  warnings.warn(msg, DataConversionWarning)\n"
     ]
    },
    {
     "data": {
      "text/plain": [
       "array([[-1.05692169, -1.70203329,  1.02340671,  1.09856064,  1.52095911,\n",
       "        -0.33985281],\n",
       "       [ 1.38262448, -0.7138952 , -0.97712863, -0.07682242, -1.12107434,\n",
       "        -1.49254616],\n",
       "       [-1.36186496,  1.262381  ,  1.02340671,  1.35975687,  0.64028129,\n",
       "         0.04437831],\n",
       "       ...,\n",
       "       [-1.05692169, -0.66965021,  1.02340671, -0.07682242,  1.0806202 ,\n",
       "         1.34115834],\n",
       "       [-0.75197842, -0.66965021, -0.97712863, -1.25220548,  0.64028129,\n",
       "        -0.33985281],\n",
       "       [-0.44703515,  0.48071952,  1.02340671, -0.33801866, -0.24039652,\n",
       "         1.00495611]])"
      ]
     },
     "execution_count": 19,
     "metadata": {},
     "output_type": "execute_result"
    }
   ],
   "source": [
    "scaler = StandardScaler()\n",
    "train_x = scaler.fit_transform(train_x)\n",
    "test_x = scaler.transform(test_x)\n",
    "test_x"
   ]
  },
  {
   "cell_type": "code",
   "execution_count": 20,
   "metadata": {},
   "outputs": [
    {
     "name": "stderr",
     "output_type": "stream",
     "text": [
      "/Applications/anaconda3/lib/python3.7/site-packages/sklearn/utils/validation.py:761: DataConversionWarning: A column-vector y was passed when a 1d array was expected. Please change the shape of y to (n_samples, ), for example using ravel().\n",
      "  y = column_or_1d(y, warn=True)\n"
     ]
    },
    {
     "data": {
      "text/plain": [
       "GaussianNB(priors=None, var_smoothing=1e-09)"
      ]
     },
     "execution_count": 20,
     "metadata": {},
     "output_type": "execute_result"
    }
   ],
   "source": [
    "from sklearn.naive_bayes import GaussianNB\n",
    "classifier = GaussianNB()\n",
    "classifier.fit(train_x,train_y)"
   ]
  },
  {
   "cell_type": "code",
   "execution_count": 21,
   "metadata": {},
   "outputs": [
    {
     "data": {
      "text/plain": [
       "array([0, 1, 0, 1, 0, 0, 0, 0, 0, 0, 0, 0, 0, 1, 1, 0, 1, 0, 0, 1, 0, 0,\n",
       "       0, 0, 0, 0, 1, 0, 0, 0, 1, 0, 1, 0, 0, 0, 0, 1, 1, 0, 0, 0, 0, 0,\n",
       "       0, 1, 0, 0, 0, 0, 0, 0, 1, 0, 0, 0, 0, 0, 0, 1, 1, 0, 0, 0, 0, 0,\n",
       "       0, 0, 0, 1, 0, 0, 0, 0, 1, 1, 0, 0, 1, 0, 0, 0, 1, 1, 0, 0, 0, 0,\n",
       "       0, 0, 0, 0, 1, 0, 0, 0, 0, 0, 0, 1, 0, 1, 0, 0, 0, 1, 0, 0, 0, 0,\n",
       "       0, 0, 1, 0, 0, 0, 0, 1, 0, 1, 0, 0, 1, 0, 0, 0, 0, 0, 1, 0, 0, 0,\n",
       "       0, 0, 0, 0, 0, 0, 0, 0, 0, 0, 0, 0, 0, 1, 1, 0, 0, 0, 0, 1, 0, 0,\n",
       "       0, 0, 0, 0, 0, 0, 0, 0, 0, 0, 0, 1, 1, 0, 1, 1, 0, 0, 0, 0, 0, 0,\n",
       "       1, 0, 1, 0, 0, 0, 0, 0, 0, 0, 1, 0, 0, 0, 1, 0, 0, 0, 0, 0, 0, 0,\n",
       "       0, 0, 1, 1, 0, 0, 1, 0, 0, 0, 1, 0, 1, 0, 0, 0, 0, 0, 1, 0, 0, 0,\n",
       "       0, 0, 0, 1, 0, 0, 1, 1, 0, 1, 0, 0, 0, 0, 0, 0, 0, 0, 1, 1, 0, 0,\n",
       "       0, 0, 1, 0, 0, 0, 0, 0, 0, 1, 1, 0, 0, 1, 0, 0, 0, 0, 0, 1, 0, 1,\n",
       "       1, 0, 1, 0, 0, 1, 0, 0, 0, 0, 0, 0, 0, 0, 0, 0, 0, 0, 0, 0, 0, 0,\n",
       "       0, 0, 0, 0, 0, 0, 0, 0, 0, 0, 0, 1, 0, 0, 1, 0, 1, 0, 0, 0, 0, 0,\n",
       "       1, 0, 0, 0, 0, 0, 0, 0, 0, 0, 0, 0, 0, 0, 0, 0, 1, 0, 0, 0, 0, 0,\n",
       "       0, 0, 1, 0, 0, 1, 0, 0, 0, 0, 1, 0, 0, 0, 0, 1, 0, 0, 0, 0, 0, 0,\n",
       "       0, 0, 1, 0, 1, 0, 0, 1, 0, 0, 0, 0, 0, 1, 0, 0, 0, 0, 0, 0, 1, 1,\n",
       "       0, 0, 0, 0, 0])"
      ]
     },
     "execution_count": 21,
     "metadata": {},
     "output_type": "execute_result"
    }
   ],
   "source": [
    "y_pred = classifier.predict(test_x)\n",
    "y_pred"
   ]
  },
  {
   "cell_type": "code",
   "execution_count": 22,
   "metadata": {},
   "outputs": [
    {
     "data": {
      "text/plain": [
       "array([[302,   1],\n",
       "       [  0,  76]])"
      ]
     },
     "execution_count": 22,
     "metadata": {},
     "output_type": "execute_result"
    }
   ],
   "source": [
    "cm = confusion_matrix(test_y,y_pred)\n",
    "cm"
   ]
  },
  {
   "cell_type": "code",
   "execution_count": 23,
   "metadata": {},
   "outputs": [
    {
     "name": "stdout",
     "output_type": "stream",
     "text": [
      "Accuracy: 0.9973614775725593\n"
     ]
    }
   ],
   "source": [
    "print(\"Accuracy:\",metrics.accuracy_score(test_y, y_pred))"
   ]
  },
  {
   "cell_type": "code",
   "execution_count": null,
   "metadata": {},
   "outputs": [],
   "source": []
  }
 ],
 "metadata": {
  "kernelspec": {
   "display_name": "Python 3",
   "language": "python",
   "name": "python3"
  },
  "language_info": {
   "codemirror_mode": {
    "name": "ipython",
    "version": 3
   },
   "file_extension": ".py",
   "mimetype": "text/x-python",
   "name": "python",
   "nbconvert_exporter": "python",
   "pygments_lexer": "ipython3",
   "version": "3.7.3"
  }
 },
 "nbformat": 4,
 "nbformat_minor": 2
}
